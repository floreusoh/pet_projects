{
 "cells": [
  {
   "cell_type": "code",
   "execution_count": 35,
   "metadata": {},
   "outputs": [],
   "source": [
    "import pandas as pd\n",
    "import numpy as np"
   ]
  },
  {
   "cell_type": "code",
   "execution_count": 36,
   "metadata": {},
   "outputs": [
    {
     "data": {
      "text/html": [
       "<div>\n",
       "<style scoped>\n",
       "    .dataframe tbody tr th:only-of-type {\n",
       "        vertical-align: middle;\n",
       "    }\n",
       "\n",
       "    .dataframe tbody tr th {\n",
       "        vertical-align: top;\n",
       "    }\n",
       "\n",
       "    .dataframe thead th {\n",
       "        text-align: right;\n",
       "    }\n",
       "</style>\n",
       "<table border=\"1\" class=\"dataframe\">\n",
       "  <thead>\n",
       "    <tr style=\"text-align: right;\">\n",
       "      <th></th>\n",
       "      <th>Unnamed: 0.1</th>\n",
       "      <th>Unnamed: 0</th>\n",
       "      <th>YEAR</th>\n",
       "      <th>State_code</th>\n",
       "      <th>State</th>\n",
       "      <th>TopicType</th>\n",
       "      <th>Type of smoking</th>\n",
       "      <th>MeasureDesc</th>\n",
       "      <th>DataSource</th>\n",
       "      <th>Response</th>\n",
       "      <th>...</th>\n",
       "      <th>TopicTypeId</th>\n",
       "      <th>TopicId</th>\n",
       "      <th>MeasureId</th>\n",
       "      <th>StratificationID1</th>\n",
       "      <th>StratificationID2</th>\n",
       "      <th>StratificationID3</th>\n",
       "      <th>StratificationID4</th>\n",
       "      <th>SubMeasureID</th>\n",
       "      <th>DisplayOrder</th>\n",
       "      <th>Period</th>\n",
       "    </tr>\n",
       "  </thead>\n",
       "  <tbody>\n",
       "    <tr>\n",
       "      <th>0</th>\n",
       "      <td>0</td>\n",
       "      <td>0</td>\n",
       "      <td>2004</td>\n",
       "      <td>OH</td>\n",
       "      <td>Ohio</td>\n",
       "      <td>Tobacco Use – Survey Data</td>\n",
       "      <td>Cigarette Use</td>\n",
       "      <td>Smoking Status</td>\n",
       "      <td>YTS</td>\n",
       "      <td>Ever</td>\n",
       "      <td>...</td>\n",
       "      <td>BEH</td>\n",
       "      <td>106BEH</td>\n",
       "      <td>166SSA</td>\n",
       "      <td>1GEN</td>\n",
       "      <td>8AGE</td>\n",
       "      <td>6RAC</td>\n",
       "      <td>1EDU</td>\n",
       "      <td>YTS08</td>\n",
       "      <td>8</td>\n",
       "      <td>1.0</td>\n",
       "    </tr>\n",
       "    <tr>\n",
       "      <th>1</th>\n",
       "      <td>1</td>\n",
       "      <td>1</td>\n",
       "      <td>2008</td>\n",
       "      <td>AL</td>\n",
       "      <td>Alabama</td>\n",
       "      <td>Tobacco Use – Survey Data</td>\n",
       "      <td>Cigarette Use</td>\n",
       "      <td>Smoking Status</td>\n",
       "      <td>YTS</td>\n",
       "      <td>Ever</td>\n",
       "      <td>...</td>\n",
       "      <td>BEH</td>\n",
       "      <td>106BEH</td>\n",
       "      <td>166SSA</td>\n",
       "      <td>3GEN</td>\n",
       "      <td>8AGE</td>\n",
       "      <td>6RAC</td>\n",
       "      <td>2EDU</td>\n",
       "      <td>YTS08</td>\n",
       "      <td>8</td>\n",
       "      <td>2.0</td>\n",
       "    </tr>\n",
       "    <tr>\n",
       "      <th>2</th>\n",
       "      <td>2</td>\n",
       "      <td>2</td>\n",
       "      <td>2015</td>\n",
       "      <td>WV</td>\n",
       "      <td>West Virginia</td>\n",
       "      <td>Tobacco Use – Survey Data</td>\n",
       "      <td>Smokeless Tobacco Use</td>\n",
       "      <td>User Status</td>\n",
       "      <td>YTS</td>\n",
       "      <td>Frequent</td>\n",
       "      <td>...</td>\n",
       "      <td>BEH</td>\n",
       "      <td>151BEH</td>\n",
       "      <td>169USS</td>\n",
       "      <td>2GEN</td>\n",
       "      <td>8AGE</td>\n",
       "      <td>6RAC</td>\n",
       "      <td>2EDU</td>\n",
       "      <td>YTS12</td>\n",
       "      <td>12</td>\n",
       "      <td>3.0</td>\n",
       "    </tr>\n",
       "    <tr>\n",
       "      <th>3</th>\n",
       "      <td>3</td>\n",
       "      <td>3</td>\n",
       "      <td>2005</td>\n",
       "      <td>IL</td>\n",
       "      <td>Illinois</td>\n",
       "      <td>Tobacco Use – Survey Data</td>\n",
       "      <td>Cigarette Use</td>\n",
       "      <td>Smoking Status</td>\n",
       "      <td>YTS</td>\n",
       "      <td>Ever</td>\n",
       "      <td>...</td>\n",
       "      <td>BEH</td>\n",
       "      <td>106BEH</td>\n",
       "      <td>166SSA</td>\n",
       "      <td>1GEN</td>\n",
       "      <td>8AGE</td>\n",
       "      <td>6RAC</td>\n",
       "      <td>1EDU</td>\n",
       "      <td>YTS08</td>\n",
       "      <td>8</td>\n",
       "      <td>2.0</td>\n",
       "    </tr>\n",
       "    <tr>\n",
       "      <th>4</th>\n",
       "      <td>4</td>\n",
       "      <td>4</td>\n",
       "      <td>2005</td>\n",
       "      <td>CT</td>\n",
       "      <td>Connecticut</td>\n",
       "      <td>Tobacco Use – Survey Data</td>\n",
       "      <td>Smokeless Tobacco Use</td>\n",
       "      <td>User Status</td>\n",
       "      <td>YTS</td>\n",
       "      <td>Ever</td>\n",
       "      <td>...</td>\n",
       "      <td>BEH</td>\n",
       "      <td>151BEH</td>\n",
       "      <td>169USS</td>\n",
       "      <td>2GEN</td>\n",
       "      <td>8AGE</td>\n",
       "      <td>6RAC</td>\n",
       "      <td>2EDU</td>\n",
       "      <td>YTS11</td>\n",
       "      <td>11</td>\n",
       "      <td>2.0</td>\n",
       "    </tr>\n",
       "  </tbody>\n",
       "</table>\n",
       "<p>5 rows × 34 columns</p>\n",
       "</div>"
      ],
      "text/plain": [
       "   Unnamed: 0.1  Unnamed: 0  YEAR State_code          State  \\\n",
       "0             0           0  2004         OH           Ohio   \n",
       "1             1           1  2008         AL        Alabama   \n",
       "2             2           2  2015         WV  West Virginia   \n",
       "3             3           3  2005         IL       Illinois   \n",
       "4             4           4  2005         CT    Connecticut   \n",
       "\n",
       "                   TopicType        Type of smoking     MeasureDesc  \\\n",
       "0  Tobacco Use – Survey Data          Cigarette Use  Smoking Status   \n",
       "1  Tobacco Use – Survey Data          Cigarette Use  Smoking Status   \n",
       "2  Tobacco Use – Survey Data  Smokeless Tobacco Use     User Status   \n",
       "3  Tobacco Use – Survey Data          Cigarette Use  Smoking Status   \n",
       "4  Tobacco Use – Survey Data  Smokeless Tobacco Use     User Status   \n",
       "\n",
       "  DataSource  Response  ... TopicTypeId TopicId  MeasureId StratificationID1  \\\n",
       "0        YTS      Ever  ...         BEH  106BEH     166SSA              1GEN   \n",
       "1        YTS      Ever  ...         BEH  106BEH     166SSA              3GEN   \n",
       "2        YTS  Frequent  ...         BEH  151BEH     169USS              2GEN   \n",
       "3        YTS      Ever  ...         BEH  106BEH     166SSA              1GEN   \n",
       "4        YTS      Ever  ...         BEH  151BEH     169USS              2GEN   \n",
       "\n",
       "  StratificationID2  StratificationID3  StratificationID4  SubMeasureID  \\\n",
       "0              8AGE               6RAC               1EDU         YTS08   \n",
       "1              8AGE               6RAC               2EDU         YTS08   \n",
       "2              8AGE               6RAC               2EDU         YTS12   \n",
       "3              8AGE               6RAC               1EDU         YTS08   \n",
       "4              8AGE               6RAC               2EDU         YTS11   \n",
       "\n",
       "   DisplayOrder Period  \n",
       "0             8    1.0  \n",
       "1             8    2.0  \n",
       "2            12    3.0  \n",
       "3             8    2.0  \n",
       "4            11    2.0  \n",
       "\n",
       "[5 rows x 34 columns]"
      ]
     },
     "execution_count": 36,
     "metadata": {},
     "output_type": "execute_result"
    }
   ],
   "source": [
    "data = pd.read_csv('Youth_Tobacco_Survey.csv')\n",
    "data.head()"
   ]
  },
  {
   "cell_type": "code",
   "execution_count": 17,
   "metadata": {},
   "outputs": [
    {
     "data": {
      "text/plain": [
       "Index(['Unnamed: 0.1', 'Unnamed: 0', 'YEAR', 'State_code', 'State',\n",
       "       'TopicType', 'Type of smoking', 'MeasureDesc', 'DataSource', 'Response',\n",
       "       'Data_Value_Unit', 'Data_Value_Type', 'pct of young people',\n",
       "       'Data_Value_Footnote_Symbol', 'Data_Value_Footnote',\n",
       "       'Data_Value_Std_Err', 'Low_Confidence_Limit', 'High_Confidence_Limit',\n",
       "       'Sample_Size', 'Gender', 'Race', 'Age', 'Education', 'GeoLocation',\n",
       "       'TopicTypeId', 'TopicId', 'MeasureId', 'StratificationID1',\n",
       "       'StratificationID2', 'StratificationID3', 'StratificationID4',\n",
       "       'SubMeasureID', 'DisplayOrder', 'Period'],\n",
       "      dtype='object')"
      ]
     },
     "execution_count": 17,
     "metadata": {},
     "output_type": "execute_result"
    }
   ],
   "source": [
    "data.columns"
   ]
  },
  {
   "cell_type": "code",
   "execution_count": 18,
   "metadata": {},
   "outputs": [],
   "source": [
    "col         = 'YEAR'\n",
    "conditions  = [ data[col] > 2010, (data[col] < 2011) & (data[col] > 2004), data[col] < 2005 ]\n",
    "choices     = [ 3, 2, 1 ]\n",
    "    \n",
    "data['Period'] = np.select(conditions, choices, default=np.nan)"
   ]
  },
  {
   "cell_type": "code",
   "execution_count": null,
   "metadata": {},
   "outputs": [],
   "source": [
    "print(data.shape)\n",
    "data['Data_Value'].isna().sum()"
   ]
  },
  {
   "cell_type": "code",
   "execution_count": 40,
   "metadata": {},
   "outputs": [],
   "source": [
    "dff = data[data['Period'] == 2]"
   ]
  },
  {
   "cell_type": "code",
   "execution_count": 41,
   "metadata": {},
   "outputs": [
    {
     "data": {
      "text/plain": [
       "array([2008, 2005, 2009, 2007, 2006, 2010])"
      ]
     },
     "execution_count": 41,
     "metadata": {},
     "output_type": "execute_result"
    }
   ],
   "source": [
    "dff.YEAR.unique()"
   ]
  },
  {
   "cell_type": "code",
   "execution_count": 10,
   "metadata": {},
   "outputs": [
    {
     "data": {
      "text/plain": [
       "array(['Cigarette Use', 'Smokeless Tobacco Use', 'Cessation'],\n",
       "      dtype=object)"
      ]
     },
     "execution_count": 10,
     "metadata": {},
     "output_type": "execute_result"
    }
   ],
   "source": [
    "data.TopicDesc.unique()"
   ]
  },
  {
   "cell_type": "code",
   "execution_count": 9,
   "metadata": {},
   "outputs": [],
   "source": [
    "data['TopicDesc'] = data['TopicDesc'].str.replace(\"(Youth)\", \"\", regex=True)\n",
    "data['TopicDesc'] = data['TopicDesc'].str[:-3]"
   ]
  },
  {
   "cell_type": "code",
   "execution_count": 11,
   "metadata": {},
   "outputs": [],
   "source": [
    "dct = {'LocationAbbr' : 'State_code',\n",
    "       'LocationDesc' : 'State',\n",
    "       'Data_Value' : 'pct of young people',\n",
    "       'TopicDesc' : 'Type of smoking'}\n",
    "data.rename(columns=dct, inplace=True)"
   ]
  },
  {
   "cell_type": "code",
   "execution_count": 4,
   "metadata": {},
   "outputs": [
    {
     "data": {
      "text/plain": [
       "Index(['Unnamed: 0', 'YEAR', 'State_code', 'State', 'TopicType',\n",
       "       'Type of smoking', 'MeasureDesc', 'DataSource', 'Response',\n",
       "       'Data_Value_Unit', 'Data_Value_Type', 'pct of young people',\n",
       "       'Data_Value_Footnote_Symbol', 'Data_Value_Footnote',\n",
       "       'Data_Value_Std_Err', 'Low_Confidence_Limit', 'High_Confidence_Limit',\n",
       "       'Sample_Size', 'Gender', 'Race', 'Age', 'Education', 'GeoLocation',\n",
       "       'TopicTypeId', 'TopicId', 'MeasureId', 'StratificationID1',\n",
       "       'StratificationID2', 'StratificationID3', 'StratificationID4',\n",
       "       'SubMeasureID', 'DisplayOrder', 'Period'],\n",
       "      dtype='object')"
      ]
     },
     "execution_count": 4,
     "metadata": {},
     "output_type": "execute_result"
    }
   ],
   "source": [
    "data.columns"
   ]
  },
  {
   "cell_type": "code",
   "execution_count": 24,
   "metadata": {},
   "outputs": [],
   "source": [
    "all_states = data.groupby(by=['YEAR','Type of smoking']).mean(numeric_only=True)\n",
    "all_states.reset_index(inplace=True)\n",
    "all_states.to_csv('all_states.csv')"
   ]
  },
  {
   "cell_type": "code",
   "execution_count": 5,
   "metadata": {},
   "outputs": [],
   "source": [
    "data.to_csv('Youth_Tobacco_Survey.csv')"
   ]
  }
 ],
 "metadata": {
  "kernelspec": {
   "display_name": "Python 3.9.13 64-bit",
   "language": "python",
   "name": "python3"
  },
  "language_info": {
   "codemirror_mode": {
    "name": "ipython",
    "version": 3
   },
   "file_extension": ".py",
   "mimetype": "text/x-python",
   "name": "python",
   "nbconvert_exporter": "python",
   "pygments_lexer": "ipython3",
   "version": "3.9.13"
  },
  "orig_nbformat": 4,
  "vscode": {
   "interpreter": {
    "hash": "aee8b7b246df8f9039afb4144a1f6fd8d2ca17a180786b69acc140d282b71a49"
   }
  }
 },
 "nbformat": 4,
 "nbformat_minor": 2
}
